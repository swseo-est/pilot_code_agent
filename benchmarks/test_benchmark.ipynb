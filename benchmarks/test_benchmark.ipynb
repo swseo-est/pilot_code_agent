{
 "cells": [
  {
   "metadata": {
    "ExecuteTime": {
     "end_time": "2025-04-22T08:45:54.147173Z",
     "start_time": "2025-04-22T08:45:54.142603Z"
    }
   },
   "cell_type": "code",
   "source": [
    "from dotenv import load_dotenv\n",
    "\n",
    "load_dotenv()"
   ],
   "id": "eb80486c23c006ae",
   "outputs": [
    {
     "data": {
      "text/plain": [
       "True"
      ]
     },
     "execution_count": 13,
     "metadata": {},
     "output_type": "execute_result"
    }
   ],
   "execution_count": 13
  },
  {
   "metadata": {
    "ExecuteTime": {
     "end_time": "2025-04-22T08:45:54.162914Z",
     "start_time": "2025-04-22T08:45:54.160072Z"
    }
   },
   "cell_type": "code",
   "source": [
    "from utils import *\n",
    "\n",
    "gen = generate_mdpp_data()"
   ],
   "id": "fb57f308a540ac3f",
   "outputs": [],
   "execution_count": 14
  },
  {
   "metadata": {
    "ExecuteTime": {
     "end_time": "2025-04-22T08:45:54.175558Z",
     "start_time": "2025-04-22T08:45:54.172728Z"
    }
   },
   "cell_type": "code",
   "source": [
    "total_num_passed = 0\n",
    "total_num_test = 0\n",
    "total_num_error = 0\n",
    "\n",
    "case_err = list()"
   ],
   "id": "c149e1e1c0fa4ba1",
   "outputs": [],
   "execution_count": 15
  },
  {
   "metadata": {
    "jupyter": {
     "is_executing": true
    },
    "ExecuteTime": {
     "start_time": "2025-04-22T08:45:54.182376Z"
    }
   },
   "cell_type": "code",
   "source": [
    "for test_set in gen:\n",
    "    task, code_ground_truth, test_list = test_set\n",
    "\n",
    "    function_name = extract_first_function_name(code_ground_truth)\n",
    "    prompt_with_name = f\"다음 문제를 푸는 파이썬 함수를 작성하세요. test_case를 통과하도록 함수를 작성하세요. 함수 이름은 반드시 `{function_name}` 이어야 합니다.\\n\\n task: {task} \\n test_case: {test_list[0]}\\n\"\n",
    "\n",
    "    result = await create_source_code(prompt_with_name)\n",
    "\n",
    "    code = getattr(result['private'], \"executed_code\", None)\n",
    "\n",
    "    num_passed, num_test, num_error = run_tests_exec(code, test_list)\n",
    "\n",
    "    total_num_passed += num_passed\n",
    "    total_num_test += num_test\n",
    "    total_num_error += num_error\n",
    "\n",
    "    if num_error > 0:\n",
    "        case_err.append([task, code_ground_truth, test_list])\n",
    "\n",
    "    print(f\"accuracy : {total_num_passed/total_num_test * 100:.2f} passed : {total_num_passed}, num test : {total_num_test}, num err : {total_num_error}\")\n"
   ],
   "id": "20e41816545416dc",
   "outputs": [
    {
     "name": "stdout",
     "output_type": "stream",
     "text": [
      "accuracy : 100.00 passed : 3, num test : 3, num err : 0\n",
      "[FAIL] Test 2: Assertion failed\n",
      "accuracy : 83.33 passed : 5, num test : 6, num err : 0\n",
      "accuracy : 88.89 passed : 8, num test : 9, num err : 0\n",
      "accuracy : 91.67 passed : 11, num test : 12, num err : 0\n",
      "accuracy : 93.33 passed : 14, num test : 15, num err : 0\n"
     ]
    }
   ],
   "execution_count": null
  },
  {
   "metadata": {
    "ExecuteTime": {
     "end_time": "2025-04-22T08:45:27.289907200Z",
     "start_time": "2025-04-22T07:07:00.108405Z"
    }
   },
   "cell_type": "code",
   "source": "",
   "id": "2aeee2644fd8563a",
   "outputs": [],
   "execution_count": null
  }
 ],
 "metadata": {
  "kernelspec": {
   "display_name": "Python 3",
   "language": "python",
   "name": "python3"
  },
  "language_info": {
   "codemirror_mode": {
    "name": "ipython",
    "version": 2
   },
   "file_extension": ".py",
   "mimetype": "text/x-python",
   "name": "python",
   "nbconvert_exporter": "python",
   "pygments_lexer": "ipython2",
   "version": "2.7.6"
  }
 },
 "nbformat": 4,
 "nbformat_minor": 5
}
