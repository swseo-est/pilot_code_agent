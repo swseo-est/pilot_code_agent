{
 "cells": [
  {
   "metadata": {
    "ExecuteTime": {
     "end_time": "2025-04-22T08:33:18.841117Z",
     "start_time": "2025-04-22T08:33:18.824202Z"
    }
   },
   "cell_type": "code",
   "source": [
    "from dotenv import load_dotenv\n",
    "\n",
    "load_dotenv()"
   ],
   "id": "eb80486c23c006ae",
   "outputs": [
    {
     "data": {
      "text/plain": [
       "True"
      ]
     },
     "execution_count": 1,
     "metadata": {},
     "output_type": "execute_result"
    }
   ],
   "execution_count": 1
  },
  {
   "metadata": {
    "ExecuteTime": {
     "end_time": "2025-04-22T08:33:21.458961Z",
     "start_time": "2025-04-22T08:33:18.856694Z"
    }
   },
   "cell_type": "code",
   "source": [
    "from utils import *\n",
    "\n",
    "gen = generate_mdpp_data()"
   ],
   "id": "fb57f308a540ac3f",
   "outputs": [],
   "execution_count": 2
  },
  {
   "metadata": {
    "ExecuteTime": {
     "end_time": "2025-04-22T08:33:21.726975Z",
     "start_time": "2025-04-22T08:33:21.721910Z"
    }
   },
   "cell_type": "code",
   "source": [
    "total_num_passed = 0\n",
    "total_num_test = 0\n",
    "total_num_error = 0\n",
    "\n",
    "case_err = list()"
   ],
   "id": "c149e1e1c0fa4ba1",
   "outputs": [],
   "execution_count": 3
  },
  {
   "metadata": {
    "ExecuteTime": {
     "end_time": "2025-04-22T08:34:12.837737Z",
     "start_time": "2025-04-22T08:33:21.739098Z"
    }
   },
   "cell_type": "code",
   "source": [
    "for test_set in gen:\n",
    "    task, code_ground_truth, test_list = test_set\n",
    "\n",
    "    function_name = extract_first_function_name(code_ground_truth)\n",
    "    prompt_with_name = f\"다음 문제를 푸는 파이썬 함수를 작성하세요. test_case를 통과하도록 함수를 작성하세요. 함수 이름은 반드시 `{function_name}` 이어야 합니다.\\n\\n task: {task} \\n test_case: {test_list[0]}\\n\"\n",
    "\n",
    "    result = await create_source_code(prompt_with_name)\n",
    "\n",
    "    code = getattr(result['private'], \"executed_code\", None)\n",
    "\n",
    "    num_passed, num_test, num_error = run_tests_exec(code, test_list)\n",
    "\n",
    "    total_num_passed += num_passed\n",
    "    total_num_test += num_test\n",
    "    total_num_error += num_error\n",
    "\n",
    "    if num_error > 0:\n",
    "        case_err.append([task, code_ground_truth, test_list])\n",
    "\n",
    "    print(f\"accuracy : {total_num_passed/total_num_test * 100:.2f} passed : {total_num_passed}, num test : {total_num_test}, num err : {total_num_error}\")\n"
   ],
   "id": "20e41816545416dc",
   "outputs": [
    {
     "name": "stdout",
     "output_type": "stream",
     "text": [
      "accuracy : 100.00 passed : 3, num test : 3, num err : 0\n",
      "[FAIL] Test 2: Assertion failed\n",
      "accuracy : 83.33 passed : 5, num test : 6, num err : 0\n",
      "[ERROR] 코드 실행 실패: \n"
     ]
    },
    {
     "ename": "ValueError",
     "evalue": "not enough values to unpack (expected 3, got 2)",
     "output_type": "error",
     "traceback": [
      "\u001B[31m---------------------------------------------------------------------------\u001B[39m",
      "\u001B[31mValueError\u001B[39m                                Traceback (most recent call last)",
      "\u001B[36mCell\u001B[39m\u001B[36m \u001B[39m\u001B[32mIn[4]\u001B[39m\u001B[32m, line 11\u001B[39m\n\u001B[32m      7\u001B[39m result = \u001B[38;5;28;01mawait\u001B[39;00m create_source_code(prompt_with_name)\n\u001B[32m      9\u001B[39m code = \u001B[38;5;28mgetattr\u001B[39m(result[\u001B[33m'\u001B[39m\u001B[33mprivate\u001B[39m\u001B[33m'\u001B[39m], \u001B[33m\"\u001B[39m\u001B[33mexecuted_code\u001B[39m\u001B[33m\"\u001B[39m, \u001B[38;5;28;01mNone\u001B[39;00m)\n\u001B[32m---> \u001B[39m\u001B[32m11\u001B[39m num_passed, num_test, num_error = run_tests_exec(code, test_list)\n\u001B[32m     13\u001B[39m total_num_passed += num_passed\n\u001B[32m     14\u001B[39m total_num_test += num_test\n",
      "\u001B[31mValueError\u001B[39m: not enough values to unpack (expected 3, got 2)"
     ]
    }
   ],
   "execution_count": 4
  },
  {
   "metadata": {
    "ExecuteTime": {
     "end_time": "2025-04-22T08:34:12.837697200Z",
     "start_time": "2025-04-22T07:07:00.108405Z"
    }
   },
   "cell_type": "code",
   "source": "",
   "id": "2aeee2644fd8563a",
   "outputs": [],
   "execution_count": null
  }
 ],
 "metadata": {
  "kernelspec": {
   "display_name": "Python 3",
   "language": "python",
   "name": "python3"
  },
  "language_info": {
   "codemirror_mode": {
    "name": "ipython",
    "version": 2
   },
   "file_extension": ".py",
   "mimetype": "text/x-python",
   "name": "python",
   "nbconvert_exporter": "python",
   "pygments_lexer": "ipython2",
   "version": "2.7.6"
  }
 },
 "nbformat": 4,
 "nbformat_minor": 5
}
