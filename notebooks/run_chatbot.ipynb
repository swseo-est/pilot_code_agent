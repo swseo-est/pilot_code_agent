{
 "cells": [
  {
   "cell_type": "code",
   "execution_count": 1,
   "id": "0dc35ed2-bf5a-45f7-ab3a-dcb7d9716519",
   "metadata": {
    "scrolled": true
   },
   "outputs": [
    {
     "name": "stdout",
     "output_type": "stream",
     "text": [
      "=== 챗봇 테스트 (종료하려면 '종료' 또는 'exit' 입력) ===\n"
     ]
    },
    {
     "name": "stdin",
     "output_type": "stream",
     "text": [
      "\n",
      "[USER]  안녕\n"
     ]
    },
    {
     "ename": "FileNotFoundError",
     "evalue": "[Errno 2] No such file or directory: 'C:\\\\Users\\\\EST\\\\PycharmProjects\\\\code_agent\\\\.venv3\\\\Lib\\\\site-packages\\\\code_agent\\\\graph\\\\execution\\\\nodes\\\\../../..\\\\config_node.yaml'",
     "output_type": "error",
     "traceback": [
      "\u001b[31m---------------------------------------------------------------------------\u001b[39m",
      "\u001b[31mFileNotFoundError\u001b[39m                         Traceback (most recent call last)",
      "\u001b[36mCell\u001b[39m\u001b[36m \u001b[39m\u001b[32mIn[1]\u001b[39m\u001b[32m, line 13\u001b[39m\n\u001b[32m     11\u001b[39m session_id = \u001b[33m\"\u001b[39m\u001b[33mtest_session\u001b[39m\u001b[33m\"\u001b[39m\n\u001b[32m     12\u001b[39m compiled_graph = build_and_compile_graph()\n\u001b[32m---> \u001b[39m\u001b[32m13\u001b[39m \u001b[38;5;28;01mawait\u001b[39;00m run_interactive_chat(compiled_graph, user_id, session_id, pretty_print_result)\n",
      "\u001b[36mFile \u001b[39m\u001b[32m~\\PycharmProjects\\code_agent\\.venv3\\Lib\\site-packages\\code_agent\\chatbot\\interactive_chat.py:19\u001b[39m, in \u001b[36mrun_interactive_chat\u001b[39m\u001b[34m(compiled_graph, user_id, session_id, pretty_print_result)\u001b[39m\n\u001b[32m     10\u001b[39m     \u001b[38;5;28;01mbreak\u001b[39;00m\n\u001b[32m     12\u001b[39m user_input_dict = {\n\u001b[32m     13\u001b[39m     \u001b[33m\"\u001b[39m\u001b[33minput\u001b[39m\u001b[33m\"\u001b[39m: input_text,\n\u001b[32m     14\u001b[39m     \u001b[33m\"\u001b[39m\u001b[33muser_id\u001b[39m\u001b[33m\"\u001b[39m: user_id,\n\u001b[32m   (...)\u001b[39m\u001b[32m     17\u001b[39m     \u001b[33m\"\u001b[39m\u001b[33mmetadata\u001b[39m\u001b[33m\"\u001b[39m: {},\n\u001b[32m     18\u001b[39m }\n\u001b[32m---> \u001b[39m\u001b[32m19\u001b[39m code_exec_state = \u001b[43mentry_node\u001b[49m\u001b[43m(\u001b[49m\u001b[43muser_input_dict\u001b[49m\u001b[43m)\u001b[49m\n\u001b[32m     20\u001b[39m result = \u001b[38;5;28;01mawait\u001b[39;00m compiled_graph.ainvoke(code_exec_state)\n\u001b[32m     21\u001b[39m pretty_print_result(result)\n",
      "\u001b[36mFile \u001b[39m\u001b[32m~\\PycharmProjects\\code_agent\\.venv3\\Lib\\site-packages\\code_agent\\graph\\execution\\nodes\\entry_node.py:18\u001b[39m, in \u001b[36mentry_node\u001b[39m\u001b[34m(state, config_path)\u001b[39m\n\u001b[32m     16\u001b[39m private = CodeExecutionPrivateState()  \u001b[38;5;66;03m# 초기화, 필요시 state에서 값 추출 가능\u001b[39;00m\n\u001b[32m     17\u001b[39m \u001b[38;5;66;03m# config_node.yaml 경로 계산 (기본값: src/code_agent/config_node.yaml)\u001b[39;00m\n\u001b[32m---> \u001b[39m\u001b[32m18\u001b[39m \u001b[38;5;28;01mwith\u001b[39;00m \u001b[38;5;28;43mopen\u001b[39;49m\u001b[43m(\u001b[49m\u001b[43mconfig_path\u001b[49m\u001b[43m,\u001b[49m\u001b[43m \u001b[49m\u001b[33;43m\"\u001b[39;49m\u001b[33;43mr\u001b[39;49m\u001b[33;43m\"\u001b[39;49m\u001b[43m,\u001b[49m\u001b[43m \u001b[49m\u001b[43mencoding\u001b[49m\u001b[43m=\u001b[49m\u001b[33;43m\"\u001b[39;49m\u001b[33;43mutf-8\u001b[39;49m\u001b[33;43m\"\u001b[39;49m\u001b[43m)\u001b[49m \u001b[38;5;28;01mas\u001b[39;00m f:\n\u001b[32m     19\u001b[39m     node_options = yaml.safe_load(f)\n\u001b[32m     20\u001b[39m \u001b[38;5;28;01mreturn\u001b[39;00m CodeExecutionState(user_input=user_input, private=private, node_options=node_options)\n",
      "\u001b[31mFileNotFoundError\u001b[39m: [Errno 2] No such file or directory: 'C:\\\\Users\\\\EST\\\\PycharmProjects\\\\code_agent\\\\.venv3\\\\Lib\\\\site-packages\\\\code_agent\\\\graph\\\\execution\\\\nodes\\\\../../..\\\\config_node.yaml'"
     ]
    }
   ],
   "source": [
    "from code_agent.chatbot.graph_utils import build_and_compile_graph\n",
    "from code_agent.chatbot.pretty_print import pretty_print_result\n",
    "from code_agent.chatbot.interactive_chat import run_interactive_chat\n",
    "from dotenv import load_dotenv\n",
    "\n",
    "load_dotenv()\n",
    "\n",
    "import asyncio\n",
    "\n",
    "user_id = \"test_user\"\n",
    "session_id = \"test_session\"\n",
    "compiled_graph = build_and_compile_graph()\n",
    "await run_interactive_chat(compiled_graph, user_id, session_id, pretty_print_result)"
   ]
  },
  {
   "cell_type": "code",
   "execution_count": null,
   "id": "f5528e12-4010-4a67-8f4d-979b5f315e8d",
   "metadata": {},
   "outputs": [],
   "source": []
  },
  {
   "cell_type": "code",
   "execution_count": null,
   "id": "feb46dd4-d8f1-465d-be5a-75c295bdb699",
   "metadata": {},
   "outputs": [],
   "source": []
  }
 ],
 "metadata": {
  "kernelspec": {
   "display_name": "Python 3 (ipykernel)",
   "language": "python",
   "name": "python3"
  },
  "language_info": {
   "codemirror_mode": {
    "name": "ipython",
    "version": 3
   },
   "file_extension": ".py",
   "mimetype": "text/x-python",
   "name": "python",
   "nbconvert_exporter": "python",
   "pygments_lexer": "ipython3",
   "version": "3.13.2"
  }
 },
 "nbformat": 4,
 "nbformat_minor": 5
}
