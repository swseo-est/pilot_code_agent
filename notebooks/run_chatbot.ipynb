{
 "cells": [
  {
   "cell_type": "code",
   "execution_count": null,
   "id": "7a1e6a61ae9c3a49",
   "metadata": {
    "ExecuteTime": {
     "start_time": "2025-04-21T13:07:30.767482Z"
    },
    "jupyter": {
     "is_executing": true
    }
   },
   "outputs": [
    {
     "name": "stdout",
     "output_type": "stream",
     "text": [
      "=== 챗봇 테스트 (종료하려면 '종료' 또는 'exit' 입력) ===\n"
     ]
    },
    {
     "name": "stdin",
     "output_type": "stream",
     "text": [
      "\n",
      "[USER]  코드 10줄 이상 작성하고 실행해\n"
     ]
    },
    {
     "name": "stdout",
     "output_type": "stream",
     "text": [
      "\n",
      "[코드]\n",
      "\n",
      "import numpy as np\n",
      "# 1. 0부터 1까지의 범위에서 임의의 실수 100개를 생성합니다.\n",
      "random_floats = np.random.rand(100)\n",
      "# 2. 각각의 수를 제곱하여 새로운 배열을 만듭니다.\n",
      "squared_floats = random_floats ** 2\n",
      "# 3. 제곱된 수들의 평균을 계산합니다.\n",
      "mean_of_squares = np.mean(squared_floats)\n",
      "# 4. 평균의 제곱근을 계산하여 결과를 도출합니다. \n",
      "result = np.sqrt(mean_of_squares)\n",
      "# 실행한 결과를 반환합니다.\n",
      "result  \n",
      "# [END]\n",
      "\n",
      "\n",
      "=== 실행중 ... ===\n",
      "\n",
      "\n",
      "\n",
      "[설명]\n",
      "0부터 1 사이의 임의의 실수 100개를 생성한 후, 각각의 수를 제곱합니다. 그런 다음, 제곱된 수들의 평균을 구하고, 평균의 제곱근을 계산하여 최종 결과를 도출합니다.\n",
      "\n",
      "[실행 결과]\n",
      "0.5704948543590204\n",
      "\n",
      "[실행 여부]: True\n"
     ]
    },
    {
     "name": "stdin",
     "output_type": "stream",
     "text": [
      "\n",
      "[USER]  Write a function to find the longest chain which can be formed from the given set of pairs.\n"
     ]
    },
    {
     "name": "stdout",
     "output_type": "stream",
     "text": [
      "\n",
      "[코드]\n",
      "\n",
      "def find_longest_chain(pairs):\n",
      "    # 주어진 쌍을 두 번째 원소를 기준으로 오름차순으로 정렬\n",
      "    pairs.sort(key=lambda x: x[1])\n",
      "    \n",
      "    # 가장 긴 체인의 길이 초기화\n",
      "    current_end = float('-inf')\n",
      "    chain_length = 0\n",
      "    # 모든 쌍을 확인하며 체인의 길이 갱신\n",
      "    for pair in pairs:\n",
      "        if pair[0] > current_end:\n",
      "            current_end = pair[1]\n",
      "            chain_length += 1\n",
      "    return chain_length\n",
      "# 테스트: 몇몇 쌍의 집합\n",
      "pairs = [(5, 24), (15, 25), (27, 40), (50, 60)]\n",
      "longest_chain_length = find_longest_chain(pairs)\n",
      "longest_chain_length\n",
      "# [END]\n",
      "\n",
      "\n",
      "=== 실행중 ... ===\n",
      "\n",
      "\n",
      "\n",
      "[설명]\n",
      "주어진 쌍들을 두 번째 원소를 기준으로 오름차순 정렬한 후, 현재 체인의 끝나는 지점보다 시작 지점이 큰 쌍을 선택하여 체인을 계속 확장합니다. 결국 선택한 쌍들의 최대 길이를 반환합니다.\n",
      "\n",
      "[실행 결과]\n",
      "3\n",
      "\n",
      "[실행 여부]: True\n"
     ]
    },
    {
     "name": "stdin",
     "output_type": "stream",
     "text": [
      "\n",
      "[USER]  위의 코드를 실행하지말고, 함수만 포함되도록 코드를 만들어줘\n"
     ]
    },
    {
     "name": "stdout",
     "output_type": "stream",
     "text": [
      "\n",
      "[코드]\n",
      "\n",
      "def find_longest_chain(pairs):\n",
      "    # 주어진 쌍을 두 번째 원소를 기준으로 오름차순으로 정렬\n",
      "    pairs.sort(key=lambda x: x[1])\n",
      "    \n",
      "    # 가장 긴 체인의 길이 초기화\n",
      "    current_end = float('-inf')\n",
      "    chain_length = 0\n",
      "\n",
      "    # 모든 쌍을 확인하며 체인의 길이 갱신\n",
      "    for pair in pairs:\n",
      "        if pair[0] > current_end:\n",
      "            current_end = pair[1]\n",
      "            chain_length += 1\n",
      "    return chain_length\n",
      "# [END]\n",
      "\n",
      "\n",
      "=== 실행중 ... ===\n",
      "\n",
      "\n",
      "\n",
      "[설명]\n",
      "주어진 쌍들을 정렬하고 체인의 가능 여부를 검사하여 가장 긴 체인의 길이를 반환하는 함수입니다.\n",
      "\n",
      "[실행 결과]\n",
      "함수 코드 제공됨\n",
      "\n",
      "[실행 여부]: False\n"
     ]
    }
   ],
   "source": [
    "from code_agent.chatbot.graph_utils import build_and_compile_graph\n",
    "from code_agent.chatbot.pretty_print import pretty_print_result\n",
    "from code_agent.chatbot.interactive_chat import run_interactive_chat\n",
    "from dotenv import load_dotenv\n",
    "\n",
    "load_dotenv()\n",
    "\n",
    "config_path = \"config_node.yaml\"\n",
    "\n",
    "user_id = \"test_user\"\n",
    "session_id = \"test_session\"\n",
    "compiled_graph = build_and_compile_graph()\n",
    "await run_interactive_chat(compiled_graph, user_id, session_id, pretty_print_result, config_path=config_path)"
   ]
  },
  {
   "cell_type": "code",
   "execution_count": null,
   "id": "8b32c60aa4af266a",
   "metadata": {},
   "outputs": [],
   "source": [
    "['assert max_chain_length([Pair(5, 24), Pair(15, 25),Pair(27, 40), Pair(50, 60)], 4) == 3'\n",
    " 'assert max_chain_length([Pair(1, 2), Pair(3, 4),Pair(5, 6), Pair(7, 8)], 4) == 4'\n",
    " 'assert max_chain_length([Pair(19, 10), Pair(11, 12),Pair(13, 14), Pair(15, 16), Pair(31, 54)], 5) == 5']"
   ]
  },
  {
   "cell_type": "code",
   "execution_count": null,
   "id": "feb46dd4-d8f1-465d-be5a-75c295bdb699",
   "metadata": {},
   "outputs": [],
   "source": []
  }
 ],
 "metadata": {
  "kernelspec": {
   "display_name": "Python 3 (ipykernel)",
   "language": "python",
   "name": "python3"
  },
  "language_info": {
   "codemirror_mode": {
    "name": "ipython",
    "version": 3
   },
   "file_extension": ".py",
   "mimetype": "text/x-python",
   "name": "python",
   "nbconvert_exporter": "python",
   "pygments_lexer": "ipython3",
   "version": "3.13.2"
  }
 },
 "nbformat": 4,
 "nbformat_minor": 5
}
