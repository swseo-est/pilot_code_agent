{
 "cells": [
  {
   "cell_type": "code",
   "execution_count": 1,
   "id": "cd8e8b9dafde069d",
   "metadata": {
    "ExecuteTime": {
     "end_time": "2025-04-24T06:28:02.573733Z",
     "start_time": "2025-04-24T06:28:00.431616Z"
    }
   },
   "outputs": [],
   "source": [
    "from code_agent.chatbot.graph_utils import build_and_compile_graph\n",
    "from code_agent.chatbot.pretty_print import pretty_print_result\n",
    "from code_agent.chatbot.interactive_chat import run_interactive_chat\n",
    "from dotenv import load_dotenv\n",
    "\n",
    "load_dotenv()\n",
    "\n",
    "config_path = \"config_node.yaml\"\n",
    "\n",
    "user_id = \"test_user\"\n",
    "session_id = \"test_session\"\n",
    "\n",
    "compiled_graph = build_and_compile_graph()"
   ]
  },
  {
   "cell_type": "code",
   "execution_count": null,
   "id": "7a1e6a61ae9c3a49",
   "metadata": {
    "ExecuteTime": {
     "start_time": "2025-04-24T06:24:26.284155Z"
    },
    "scrolled": true
   },
   "outputs": [
    {
     "name": "stdout",
     "output_type": "stream",
     "text": [
      "=== 챗봇 테스트 (종료하려면 '종료' 또는 'exit' 입력) ===\n"
     ]
    },
    {
     "name": "stdin",
     "output_type": "stream",
     "text": [
      "\n",
      "[USER]  코드 실행이 10초 이내로 종료되지만 코드를 30줄 이상 작성해야하는 수학 문제를 추천해줘\n"
     ]
    },
    {
     "name": "stdout",
     "output_type": "stream",
     "text": [
      "\n",
      "[코드]\n",
      "\n",
      "def is_prime(n):\n",
      "    if n <= 1:\n",
      "        return False\n",
      "    if n <= 3:\n",
      "        return True\n",
      "    if n % 2 == 0 or n % 3 == 0:\n",
      "    i = 5\n",
      "    while i * i <= n:\n",
      "        if n % i == 0 or n % (i + 2) == 0:\n",
      "            return False\n",
      "        i += 6\n",
      "    return True\n",
      "\n",
      "n1 = 100\n",
      "n2 = 200\n",
      "primes = [i for i in range(n1, n2) if is_prime(i)]\n",
      "sum_of_primes = sum(primes)\n",
      "min_prime = min(primes)\n",
      "max_prime = max(primes)\n",
      "avg_prime = sum_of_primes / len(primes)\n",
      "results = {\n",
      "    'primes': primes,\n",
      "    'sum_of_primes': sum_of_primes,\n",
      "    'min_prime': min_prime,\n",
      "    'max_prime': max_prime,\n",
      "    'avg_prime': avg_prime\n",
      "}\n",
      "results  \n",
      "\n",
      "[설명]\n",
      "100에서 200 사이의 소수를 찾아, 그 소수들의 합, 최소값, 최대값, 평균을 계산하는 문제입니다. 코드는 소수를 판별하는 함수 is_prime을 정의하고, 주어진 범위 내에서 소수를 찾습니다. 그 후, 찾은 소수들을 이용해 합계, 최소값, 최대값, 평균을 계산합니다.\n",
      "\n",
      "[실행 결과]\n",
      "추천하는 수학 문제: 100에서 200 사이의 소수 찾기 및 합계, 최소값, 최대값, 평균 계산하기\n",
      "\n",
      "[실행 여부]: False\n"
     ]
    },
    {
     "name": "stdin",
     "output_type": "stream",
     "text": [
      "\n",
      "[USER]  100에서 200 사이의 소수를 찾아, 그 소수들의 합, 최소값, 최대값, 평균을 계산해줘\n"
     ]
    },
    {
     "name": "stdout",
     "output_type": "stream",
     "text": [
      "\n",
      "[코드]\n",
      "\n",
      "def is_prime(n):\n",
      "    if n <= 1:\n",
      "        return False\n",
      "    if n <= 3:\n",
      "        return True\n",
      "    if n % 2 == 0 or n % 3 == 0:\n",
      "    i = 5\n",
      "    while i * i <= n:\n",
      "        if n % i == 0 or n % (i + 2) == 0:\n",
      "            return False\n",
      "        i += 6\n",
      "    return True\n",
      "n1 = 100\n",
      "n2 = 200\n",
      "primes = [i for i in range(n1, n2) if is_prime(i)]\n",
      "sum_of_primes = sum(primes)\n",
      "min_prime = min(primes)\n",
      "max_prime = max(primes)\n",
      "avg_prime = sum_of_primes / len(primes)\n",
      "results = {\n",
      "    'primes': primes,\n",
      "    'sum_of_primes': sum_of_primes,\n",
      "    'min_prime': min_prime,\n",
      "    'max_prime': max_prime,\n",
      "    'avg_prime': avg_prime\n",
      "}\n",
      "results  # [END]\n",
      "\n",
      "\n",
      "=== 실행중 ... ===\n",
      "\n",
      "\n",
      "\n",
      "[설명]\n",
      "100에서 200 사이의 소수를 찾아, 그 소수들의 합, 최소값, 최대값, 평균을 계산했습니다. 소수를 확인하는 is_prime 함수를 사용하여 주어진 범위 내의 소수를 리스트로 만들고, 이를 이용해 합계, 최소값, 최대값, 평균을 계산했습니다.\n",
      "\n",
      "[실행 결과]\n",
      "{'primes': [101, 103, 107, 109, 113, 127, 131, 137, 139, 149, 151, 157, 163, 167, 173, 179, 181, 191, 193, 197, 199], 'sum_of_primes': 3167, 'min_prime': 101, 'max_prime': 199, 'avg_prime': 150.8095238095238}\n",
      "\n",
      "[실행 여부]: True\n"
     ]
    }
   ],
   "source": [
    "await run_interactive_chat(compiled_graph, user_id, session_id, pretty_print_result, config_path=config_path)"
   ]
  },
  {
   "cell_type": "code",
   "execution_count": null,
   "id": "feb46dd4-d8f1-465d-be5a-75c295bdb699",
   "metadata": {},
   "outputs": [],
   "source": []
  }
 ],
 "metadata": {
  "kernelspec": {
   "display_name": "Python 3 (ipykernel)",
   "language": "python",
   "name": "python3"
  },
  "language_info": {
   "codemirror_mode": {
    "name": "ipython",
    "version": 3
   },
   "file_extension": ".py",
   "mimetype": "text/x-python",
   "name": "python",
   "nbconvert_exporter": "python",
   "pygments_lexer": "ipython3",
   "version": "3.13.2"
  }
 },
 "nbformat": 4,
 "nbformat_minor": 5
}
