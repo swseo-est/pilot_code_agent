{
 "cells": [
  {
   "cell_type": "code",
   "execution_count": null,
   "id": "7a1e6a61ae9c3a49",
   "metadata": {
    "ExecuteTime": {
     "start_time": "2025-04-21T13:07:30.767482Z"
    },
    "jupyter": {
     "is_executing": true
    }
   },
   "outputs": [
    {
     "name": "stdout",
     "output_type": "stream",
     "text": [
      "=== 챗봇 테스트 (종료하려면 '종료' 또는 'exit' 입력) ===\n"
     ]
    },
    {
     "name": "stdin",
     "output_type": "stream",
     "text": [
      "\n",
      "[USER]  안녕\n"
     ]
    },
    {
     "name": "stdout",
     "output_type": "stream",
     "text": [
      "\n",
      "[설명]\n",
      "인사에 대한 응답으로, '안녕하세요!'라고 대답합니다.\n",
      "\n",
      "[실행 결과]\n",
      "안녕하세요!\n",
      "\n",
      "[실행 여부]: False\n"
     ]
    },
    {
     "name": "stdin",
     "output_type": "stream",
     "text": [
      "\n",
      "[USER]  아무 코드나 실행해\n"
     ]
    },
    {
     "name": "stdout",
     "output_type": "stream",
     "text": [
      "\n",
      "[코드]\n",
      "\n",
      "import random\n",
      "# 랜덤하게 1부터 100 사이의 정수를 생성합니다.\n",
      "random_number = random.randint(1, 100)\n",
      "random_number  # [END]\n",
      "\n",
      "\n",
      "=== 실행중 ... ===\n",
      "\n",
      "\n",
      "\n",
      "[설명]\n",
      "random 모듈을 사용해 1~100 사이의 정수를 생성합니다.\n",
      "\n",
      "[실행 결과]\n",
      "87\n",
      "\n",
      "[실행 여부]: True\n"
     ]
    },
    {
     "name": "stdin",
     "output_type": "stream",
     "text": [
      "\n",
      "[USER]  10줄 이상되는 아무 코드나 실행해\n"
     ]
    },
    {
     "name": "stdout",
     "output_type": "stream",
     "text": [
      "\n",
      "[코드]\n",
      "\n",
      "# 간단한 피보나치 수열 생성기\n",
      "def fibonacci(n):\n",
      "    \"\"\"n개의 피보나치 수를 생성합니다.\"\"\"\n",
      "    fib_sequence = [0, 1]\n",
      "    while len(fib_sequence) < n:\n",
      "        next_value = fib_sequence[-1] + fib_sequence[-2]\n",
      "        fib_sequence.append(next_value)\n",
      "    return fib_sequence\n",
      "\n",
      "# 피보나치 수열 10개 생성\n",
      "fib_sequence_10 = fibonacci(10)\n",
      "fib_sequence_10\n",
      "# 피보나치 수열 15개 생성\n",
      "fib_sequence_15 = fibonacci(15)\n",
      "fib_sequence_15  # [END]\n",
      "\n",
      "\n",
      "=== 실행중 ... ===\n",
      "\n",
      "\n",
      "\n",
      "[설명]\n",
      "피보나치 수열을 생성하는 간단한 코드입니다. 주어진 n 값만큼의 피보나치 수를 생성하여 리스트로 반환합니다.\n",
      "\n",
      "[실행 결과]\n",
      "[0, 1, 1, 2, 3, 5, 8, 13, 21, 34, 55, 89, 144, 233, 377]\n",
      "\n",
      "[실행 여부]: True\n"
     ]
    }
   ],
   "source": [
    "from code_agent.chatbot.graph_utils import build_and_compile_graph\n",
    "from code_agent.chatbot.pretty_print import pretty_print_result\n",
    "from code_agent.chatbot.interactive_chat import run_interactive_chat\n",
    "from dotenv import load_dotenv\n",
    "\n",
    "load_dotenv()\n",
    "\n",
    "import asyncio\n",
    "\n",
    "user_id = \"test_user\"\n",
    "session_id = \"test_session\"\n",
    "compiled_graph = build_and_compile_graph()\n",
    "await run_interactive_chat(compiled_graph, user_id, session_id, pretty_print_result)"
   ]
  },
  {
   "cell_type": "code",
   "execution_count": null,
   "id": "8b32c60aa4af266a",
   "metadata": {},
   "outputs": [],
   "source": []
  },
  {
   "cell_type": "code",
   "execution_count": null,
   "id": "feb46dd4-d8f1-465d-be5a-75c295bdb699",
   "metadata": {},
   "outputs": [],
   "source": []
  }
 ],
 "metadata": {
  "kernelspec": {
   "display_name": "Python 3 (ipykernel)",
   "language": "python",
   "name": "python3"
  },
  "language_info": {
   "codemirror_mode": {
    "name": "ipython",
    "version": 3
   },
   "file_extension": ".py",
   "mimetype": "text/x-python",
   "name": "python",
   "nbconvert_exporter": "python",
   "pygments_lexer": "ipython3",
   "version": "3.13.2"
  }
 },
 "nbformat": 4,
 "nbformat_minor": 5
}
