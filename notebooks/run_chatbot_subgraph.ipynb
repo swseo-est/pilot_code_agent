{
 "cells": [
  {
   "cell_type": "code",
   "execution_count": 1,
   "id": "initial_id",
   "metadata": {
    "ExecuteTime": {
     "end_time": "2025-04-21T06:28:57.430924Z",
     "start_time": "2025-04-21T06:28:57.419328Z"
    }
   },
   "outputs": [
    {
     "data": {
      "text/plain": [
       "Graph(nodes={'__start__': Node(id='__start__', name='__start__', data=<class 'code_agent.graph.state.CodeExecutionState'>, metadata=None), 'thread_manager_node': Node(id='thread_manager_node', name='thread_manager_node', data=thread_manager_node(tags=None, recurse=True, explode_args=False, func_accepts_config=False, func_accepts={}), metadata=None), 'message_append_node': Node(id='message_append_node', name='message_append_node', data=message_append_node(tags=None, recurse=True, explode_args=False, func_accepts_config=False, func_accepts={}), metadata=None), 'run_assistant_node': Node(id='run_assistant_node', name='run_assistant_node', data=run_assistant_node(tags=None, recurse=True, explode_args=False, func_accepts_config=False, func_accepts={}), metadata=None), 'extract_result_node': Node(id='extract_result_node', name='extract_result_node', data=extract_result_node(tags=None, recurse=True, explode_args=False, func_accepts_config=False, func_accepts={}), metadata=None), 'error_handler_node': Node(id='error_handler_node', name='error_handler_node', data=error_handler_node(tags=None, recurse=True, explode_args=False, func_accepts_config=False, func_accepts={}), metadata=None), '__end__': Node(id='__end__', name='__end__', data=<class 'code_agent.graph.state.CodeExecutionState'>, metadata=None)}, edges=[Edge(source='__start__', target='thread_manager_node', data=None, conditional=False), Edge(source='error_handler_node', target='__end__', data=None, conditional=False), Edge(source='extract_result_node', target='error_handler_node', data=None, conditional=False), Edge(source='message_append_node', target='run_assistant_node', data=None, conditional=False), Edge(source='thread_manager_node', target='message_append_node', data=None, conditional=False), Edge(source='run_assistant_node', target='extract_result_node', data=None, conditional=True), Edge(source='run_assistant_node', target='error_handler_node', data=None, conditional=True)])"
      ]
     },
     "execution_count": 1,
     "metadata": {},
     "output_type": "execute_result"
    }
   ],
   "source": [
    "from IPython.display import display, Markdown\n",
    "from code_agent.graph.execution.build import build_execution_subgraph\n",
    "from code_agent.graph.execution.nodes.entry_node import entry_node\n",
    "from dotenv import load_dotenv\n",
    "\n",
    "load_dotenv()\n",
    "\n",
    "user_id = \"test_user\"\n",
    "session_id = \"test_session\"\n",
    "\n",
    "graph = build_execution_subgraph()\n",
    "compiled_graph = graph.compile()\n",
    "\n",
    "compiled_graph.get_graph()"
   ]
  },
  {
   "cell_type": "code",
   "execution_count": 2,
   "id": "f543e02d89d15363",
   "metadata": {
    "ExecuteTime": {
     "end_time": "2025-04-21T06:28:57.501322Z",
     "start_time": "2025-04-21T06:28:57.496791Z"
    }
   },
   "outputs": [],
   "source": [
    "def pretty_print_result(result):\n",
    "    private = result[\"private\"]\n",
    "    code = getattr(private, \"executed_code\", None)\n",
    "    explanation = getattr(private, \"explanation\", None)\n",
    "    exec_result = getattr(private, \"final_output\", None)\n",
    "\n",
    "    # 코드 블록\n",
    "    if code:\n",
    "        display(Markdown(f\"**[코드]**\\n```python\\n{code}\\n```\"))\n",
    "    # 설명\n",
    "    if explanation:\n",
    "        display(Markdown(f\"**[설명]**\\n{explanation}\"))\n",
    "    # 실행 결과\n",
    "    if exec_result:\n",
    "        display(Markdown(f\"**[실행 결과]**\\n```\\n{exec_result}\\n```\"))"
   ]
  },
  {
   "cell_type": "code",
   "execution_count": null,
   "id": "e0f9548d2ab719cb",
   "metadata": {
    "ExecuteTime": {
     "start_time": "2025-04-21T06:28:57.518302Z"
    },
    "jupyter": {
     "is_executing": true
    },
    "scrolled": true
   },
   "outputs": [
    {
     "name": "stdout",
     "output_type": "stream",
     "text": [
      "=== 챗봇 테스트 (종료하려면 '종료' 또는 'exit' 입력) ===\n"
     ]
    },
    {
     "name": "stdin",
     "output_type": "stream",
     "text": [
      "\n",
      "[USER]  안녕\n"
     ]
    },
    {
     "data": {
      "text/markdown": [
       "**[설명]**\n",
       "안녕하세요! 무엇을 도와드릴까요?"
      ],
      "text/plain": [
       "<IPython.core.display.Markdown object>"
      ]
     },
     "metadata": {},
     "output_type": "display_data"
    },
    {
     "data": {
      "text/markdown": [
       "**[실행 결과]**\n",
       "```\n",
       "{\n",
       "    \"code\": \"\",\n",
       "    \"explanation\": \"안녕하세요! 무엇을 도와드릴까요?\",\n",
       "    \"result\": \"\"\n",
       "}\n",
       "```"
      ],
      "text/plain": [
       "<IPython.core.display.Markdown object>"
      ]
     },
     "metadata": {},
     "output_type": "display_data"
    },
    {
     "name": "stdin",
     "output_type": "stream",
     "text": [
      "\n",
      "[USER]  일부러 에러를 발생하는 코드를 실행해\n"
     ]
    },
    {
     "data": {
      "text/markdown": [
       "**[코드]**\n",
       "```python\n",
       "result = 10 / 0\n",
       "```"
      ],
      "text/plain": [
       "<IPython.core.display.Markdown object>"
      ]
     },
     "metadata": {},
     "output_type": "display_data"
    },
    {
     "data": {
      "text/markdown": [
       "**[설명]**\n",
       "이 코드는 0으로 나누기를 시도하므로, ZeroDivisionError가 발생합니다."
      ],
      "text/plain": [
       "<IPython.core.display.Markdown object>"
      ]
     },
     "metadata": {},
     "output_type": "display_data"
    },
    {
     "data": {
      "text/markdown": [
       "**[실행 결과]**\n",
       "```\n",
       "[에러] ZeroDivisionError: division by zero\n",
       "```"
      ],
      "text/plain": [
       "<IPython.core.display.Markdown object>"
      ]
     },
     "metadata": {},
     "output_type": "display_data"
    }
   ],
   "source": [
    "print(\"=== 챗봇 테스트 (종료하려면 '종료' 또는 'exit' 입력) ===\")\n",
    "\n",
    "while True:\n",
    "    input_text = input(\"\\n[USER] \")\n",
    "    if input_text.strip().lower() in [\"종료\", \"exit\"]:\n",
    "        print(\"대화를 종료합니다.\")\n",
    "        break\n",
    "\n",
    "    user_input_dict = {\n",
    "        \"input\": input_text,\n",
    "        \"user_id\": user_id,\n",
    "        \"session_id\": session_id,\n",
    "        \"attachments\": [],\n",
    "        \"metadata\": {},\n",
    "    }\n",
    "    code_exec_state = entry_node(user_input_dict)\n",
    "\n",
    "    # Jupyter에서 await 사용\n",
    "    result = await compiled_graph.ainvoke(code_exec_state)\n",
    "\n",
    "    pretty_print_result(result)"
   ]
  },
  {
   "cell_type": "code",
   "execution_count": null,
   "id": "3209ad30c6332efa",
   "metadata": {},
   "outputs": [],
   "source": []
  }
 ],
 "metadata": {
  "kernelspec": {
   "display_name": "Python 3 (ipykernel)",
   "language": "python",
   "name": "python3"
  },
  "language_info": {
   "codemirror_mode": {
    "name": "ipython",
    "version": 3
   },
   "file_extension": ".py",
   "mimetype": "text/x-python",
   "name": "python",
   "nbconvert_exporter": "python",
   "pygments_lexer": "ipython3",
   "version": "3.13.2"
  }
 },
 "nbformat": 4,
 "nbformat_minor": 5
}
