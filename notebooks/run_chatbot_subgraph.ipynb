{
 "cells": [
  {
   "cell_type": "code",
   "execution_count": null,
   "id": "0dc35ed2-bf5a-45f7-ab3a-dcb7d9716519",
   "metadata": {
    "scrolled": true
   },
   "outputs": [
    {
     "name": "stdout",
     "output_type": "stream",
     "text": [
      "=== 챗봇 테스트 (종료하려면 '종료' 또는 'exit' 입력) ===\n"
     ]
    },
    {
     "name": "stdin",
     "output_type": "stream",
     "text": [
      "\n",
      "[USER]  안녕\n"
     ]
    },
    {
     "data": {
      "text/markdown": [
       "**[설명]**\n",
       "사용자가 인사말을 건넸습니다. 단순 인사이므로 실행할 코드가 없습니다."
      ],
      "text/plain": [
       "<IPython.core.display.Markdown object>"
      ]
     },
     "metadata": {},
     "output_type": "display_data"
    },
    {
     "data": {
      "text/markdown": [
       "**[실행 결과]**\n",
       "```\n",
       "안녕하세요!\n",
       "```"
      ],
      "text/plain": [
       "<IPython.core.display.Markdown object>"
      ]
     },
     "metadata": {},
     "output_type": "display_data"
    },
    {
     "data": {
      "text/markdown": [
       "**[실행 여부]**: False"
      ],
      "text/plain": [
       "<IPython.core.display.Markdown object>"
      ]
     },
     "metadata": {},
     "output_type": "display_data"
    },
    {
     "name": "stdin",
     "output_type": "stream",
     "text": [
      "\n",
      "[USER]  아무런 코드나 실행하고 결과를 보여줘\n"
     ]
    },
    {
     "data": {
      "text/markdown": [
       "**[코드]**\n",
       "```python\n",
       "# 간단한 덧셈 연산 실행\n",
       "a = 5\n",
       "b = 3\n",
       "result = a + b\n",
       "result\n",
       "```"
      ],
      "text/plain": [
       "<IPython.core.display.Markdown object>"
      ]
     },
     "metadata": {},
     "output_type": "display_data"
    },
    {
     "data": {
      "text/markdown": [
       "**[설명]**\n",
       "a와 b의 값(각각 5와 3)을 더하는 간단한 파이썬 코드를 실행하였습니다. 결과는 8입니다."
      ],
      "text/plain": [
       "<IPython.core.display.Markdown object>"
      ]
     },
     "metadata": {},
     "output_type": "display_data"
    },
    {
     "data": {
      "text/markdown": [
       "**[실행 결과]**\n",
       "```\n",
       "8\n",
       "```"
      ],
      "text/plain": [
       "<IPython.core.display.Markdown object>"
      ]
     },
     "metadata": {},
     "output_type": "display_data"
    },
    {
     "data": {
      "text/markdown": [
       "**[실행 여부]**: True"
      ],
      "text/plain": [
       "<IPython.core.display.Markdown object>"
      ]
     },
     "metadata": {},
     "output_type": "display_data"
    },
    {
     "name": "stdin",
     "output_type": "stream",
     "text": [
      "\n",
      "[USER]  다른 방식으로 해봐\n"
     ]
    },
    {
     "data": {
      "text/markdown": [
       "**[코드]**\n",
       "```python\n",
       "# 다른 방식으로 덧셈 연산 실행\n",
       "result = sum([5, 3])\n",
       "result\n",
       "```"
      ],
      "text/plain": [
       "<IPython.core.display.Markdown object>"
      ]
     },
     "metadata": {},
     "output_type": "display_data"
    },
    {
     "data": {
      "text/markdown": [
       "**[설명]**\n",
       "파이썬의 내장 함수인 sum()을 사용해서 리스트 [5, 3]에 있는 두 숫자의 합을 계산했습니다. 결과는 동일하게 8입니다."
      ],
      "text/plain": [
       "<IPython.core.display.Markdown object>"
      ]
     },
     "metadata": {},
     "output_type": "display_data"
    },
    {
     "data": {
      "text/markdown": [
       "**[실행 결과]**\n",
       "```\n",
       "8\n",
       "```"
      ],
      "text/plain": [
       "<IPython.core.display.Markdown object>"
      ]
     },
     "metadata": {},
     "output_type": "display_data"
    },
    {
     "data": {
      "text/markdown": [
       "**[실행 여부]**: True"
      ],
      "text/plain": [
       "<IPython.core.display.Markdown object>"
      ]
     },
     "metadata": {},
     "output_type": "display_data"
    },
    {
     "name": "stdin",
     "output_type": "stream",
     "text": [
      "\n",
      "[USER]  또 다른 방식으로 해봐\n"
     ]
    },
    {
     "data": {
      "text/markdown": [
       "**[코드]**\n",
       "```python\n",
       "# 또 다른 방식으로 덧셈 연산 실행: map과 lambda 함수를 사용하여 두 수를 더함\n",
       "result = (lambda x, y: x + y)(5, 3)\n",
       "result\n",
       "```"
      ],
      "text/plain": [
       "<IPython.core.display.Markdown object>"
      ]
     },
     "metadata": {},
     "output_type": "display_data"
    },
    {
     "data": {
      "text/markdown": [
       "**[설명]**\n",
       "lambda 함수를 사용하여 두 수 5와 3을 더했습니다. 익명 함수인 lambda를 통해 함수 정의와 호출을 한 줄에 구현하였습니다. 결과는 8입니다."
      ],
      "text/plain": [
       "<IPython.core.display.Markdown object>"
      ]
     },
     "metadata": {},
     "output_type": "display_data"
    },
    {
     "data": {
      "text/markdown": [
       "**[실행 결과]**\n",
       "```\n",
       "8\n",
       "```"
      ],
      "text/plain": [
       "<IPython.core.display.Markdown object>"
      ]
     },
     "metadata": {},
     "output_type": "display_data"
    },
    {
     "data": {
      "text/markdown": [
       "**[실행 여부]**: True"
      ],
      "text/plain": [
       "<IPython.core.display.Markdown object>"
      ]
     },
     "metadata": {},
     "output_type": "display_data"
    }
   ],
   "source": [
    "from code_agent.chatbot.graph_utils import build_and_compile_graph\n",
    "from code_agent.chatbot.pretty_print import pretty_print_result\n",
    "from code_agent.chatbot.interactive_chat import run_interactive_chat\n",
    "from dotenv import load_dotenv\n",
    "\n",
    "load_dotenv()\n",
    "\n",
    "import asyncio\n",
    "\n",
    "user_id = \"test_user\"\n",
    "session_id = \"test_session\"\n",
    "compiled_graph = build_and_compile_graph()\n",
    "await run_interactive_chat(compiled_graph, user_id, session_id, pretty_print_result)"
   ]
  },
  {
   "cell_type": "code",
   "execution_count": null,
   "id": "f5528e12-4010-4a67-8f4d-979b5f315e8d",
   "metadata": {},
   "outputs": [],
   "source": []
  }
 ],
 "metadata": {
  "kernelspec": {
   "display_name": "Python 3 (ipykernel)",
   "language": "python",
   "name": "python3"
  },
  "language_info": {
   "codemirror_mode": {
    "name": "ipython",
    "version": 3
   },
   "file_extension": ".py",
   "mimetype": "text/x-python",
   "name": "python",
   "nbconvert_exporter": "python",
   "pygments_lexer": "ipython3",
   "version": "3.13.2"
  }
 },
 "nbformat": 4,
 "nbformat_minor": 5
}
