{
 "cells": [
  {
   "cell_type": "code",
   "execution_count": null,
   "id": "0dc35ed2-bf5a-45f7-ab3a-dcb7d9716519",
   "metadata": {},
   "outputs": [
    {
     "name": "stdout",
     "output_type": "stream",
     "text": [
      "=== 챗봇 테스트 (종료하려면 '종료' 또는 'exit' 입력) ===\n"
     ]
    },
    {
     "name": "stdin",
     "output_type": "stream",
     "text": [
      "\n",
      "[USER]  안녕\n"
     ]
    },
    {
     "data": {
      "text/markdown": [
       "**[설명]**\n",
       "안녕하세요! 무엇을 도와드릴까요?"
      ],
      "text/plain": [
       "<IPython.core.display.Markdown object>"
      ]
     },
     "metadata": {},
     "output_type": "display_data"
    },
    {
     "data": {
      "text/markdown": [
       "**[실행 여부]**: False"
      ],
      "text/plain": [
       "<IPython.core.display.Markdown object>"
      ]
     },
     "metadata": {},
     "output_type": "display_data"
    },
    {
     "name": "stdin",
     "output_type": "stream",
     "text": [
      "\n",
      "[USER]  아무코드나 생성해서 실행해\n"
     ]
    },
    {
     "data": {
      "text/markdown": [
       "**[코드]**\n",
       "```python\n",
       "# 간단한 파이썬 코드로서 1부터 5까지의 숫자를 제곱한 후 리스트로 반환하는 코드입니다.\n",
       "squares = [i ** 2 for i in range(1, 6)]\n",
       "squares\n",
       "```"
      ],
      "text/plain": [
       "<IPython.core.display.Markdown object>"
      ]
     },
     "metadata": {},
     "output_type": "display_data"
    },
    {
     "data": {
      "text/markdown": [
       "**[설명]**\n",
       "1부터 5까지의 자연수를 제곱하여 리스트로 만들어 반환하는 파이썬 코드입니다."
      ],
      "text/plain": [
       "<IPython.core.display.Markdown object>"
      ]
     },
     "metadata": {},
     "output_type": "display_data"
    },
    {
     "data": {
      "text/markdown": [
       "**[실행 결과]**\n",
       "```\n",
       "[1, 4, 9, 16, 25]\n",
       "```"
      ],
      "text/plain": [
       "<IPython.core.display.Markdown object>"
      ]
     },
     "metadata": {},
     "output_type": "display_data"
    },
    {
     "data": {
      "text/markdown": [
       "**[실행 여부]**: True"
      ],
      "text/plain": [
       "<IPython.core.display.Markdown object>"
      ]
     },
     "metadata": {},
     "output_type": "display_data"
    }
   ],
   "source": [
    "from code_agent.chatbot.graph_utils import build_and_compile_graph\n",
    "from code_agent.chatbot.pretty_print import pretty_print_result\n",
    "from code_agent.chatbot.interactive_chat import run_interactive_chat\n",
    "from dotenv import load_dotenv\n",
    "\n",
    "load_dotenv()\n",
    "\n",
    "import asyncio\n",
    "\n",
    "user_id = \"test_user\"\n",
    "session_id = \"test_session\"\n",
    "compiled_graph = build_and_compile_graph()\n",
    "await run_interactive_chat(compiled_graph, user_id, session_id, pretty_print_result)"
   ]
  },
  {
   "cell_type": "code",
   "execution_count": null,
   "id": "f5528e12-4010-4a67-8f4d-979b5f315e8d",
   "metadata": {},
   "outputs": [],
   "source": []
  }
 ],
 "metadata": {
  "kernelspec": {
   "display_name": "Python 3 (ipykernel)",
   "language": "python",
   "name": "python3"
  },
  "language_info": {
   "codemirror_mode": {
    "name": "ipython",
    "version": 3
   },
   "file_extension": ".py",
   "mimetype": "text/x-python",
   "name": "python",
   "nbconvert_exporter": "python",
   "pygments_lexer": "ipython3",
   "version": "3.13.2"
  }
 },
 "nbformat": 4,
 "nbformat_minor": 5
}
